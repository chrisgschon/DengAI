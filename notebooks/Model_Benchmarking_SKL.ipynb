{
 "cells": [
  {
   "cell_type": "markdown",
   "metadata": {},
   "source": [
    "# Model Benchmarking\n",
    "\n",
    "This notebook will perform exploration via model and model hyperparameter searching of possible shallow models using SKLearn built in algorithms.\n",
    "\n",
    "I use data constructed by Feature_Engineering.ipynb and model searching functionality from SKL_search.py "
   ]
  },
  {
   "cell_type": "code",
   "execution_count": 3,
   "metadata": {},
   "outputs": [],
   "source": [
    "import pandas as pd\n",
    "import numpy as np\n",
    "import seaborn as sns\n",
    "sns.set_context('talk')\n",
    "import matplotlib.pyplot as plt\n",
    "import warnings\n",
    "from SKL_search import *\n",
    "warnings.filterwarnings(\"ignore\")"
   ]
  },
  {
   "cell_type": "code",
   "execution_count": 4,
   "metadata": {},
   "outputs": [],
   "source": [
    "#untie local dependency\n",
    "import os\n",
    "cwd = os.getcwd().split('\\\\')\n",
    "local_repo_path = '\\\\'.join(cwd[:-1])\n",
    "raw_data_path = local_repo_path + r'\\data\\raw'\n",
    "processed_data_path = local_repo_path + '\\data\\processed'\n",
    "feature_path = local_repo_path + r'\\\\data\\\\features'"
   ]
  },
  {
   "cell_type": "code",
   "execution_count": 7,
   "metadata": {},
   "outputs": [],
   "source": [
    "sj_feature_train = pd.read_csv(feature_path + r'\\\\sj_train.csv', index_col=0)\n",
    "sj_feature_test = pd.read_csv(feature_path + r'\\\\sj_test.csv', index_col=0)\n",
    "iq_feature_train = pd.read_csv(feature_path + r'\\\\iq_train.csv', index_col=0)\n",
    "iq_feature_test = pd.read_csv(feature_path + r'\\\\iq_test.csv', index_col=0)"
   ]
  },
  {
   "cell_type": "code",
   "execution_count": 53,
   "metadata": {},
   "outputs": [],
   "source": [
    "from sklearn.model_selection import train_test_split\n",
    "X_tr_sj, X_val_sj, Y_tr_sj, Y_val_sj = train_test_split(sj_feature_train.drop('total_cases', axis = 1), sj_feature_train['total_cases'], test_size = 0.05, random_state = 4)\n",
    "X_tr_iq, X_val_iq, Y_tr_iq, Y_val_iq = train_test_split(iq_feature_train.drop('total_cases', axis = 1), iq_feature_train['total_cases'], test_size = 0.05, random_state = 4)"
   ]
  },
  {
   "cell_type": "code",
   "execution_count": 19,
   "metadata": {},
   "outputs": [],
   "source": [
    "from sklearn.ensemble import (ExtraTreesRegressor, RandomForestRegressor, \n",
    "                              AdaBoostRegressor, GradientBoostingRegressor)\n",
    "from sklearn.svm import SVR\n",
    "from sklearn import linear_model"
   ]
  },
  {
   "cell_type": "code",
   "execution_count": 34,
   "metadata": {},
   "outputs": [],
   "source": [
    "models1 = { \n",
    "    'RandomForestRegressor': RandomForestRegressor(),\n",
    "    #'AdaBoostRegressor': AdaBoostRegressor(),\n",
    "    'GradientBoostingRegressor': GradientBoostingRegressor(),\n",
    "    'SVR': SVR(),\n",
    "    'LinearRegression': linear_model.LinearRegression()\n",
    "}\n",
    "\n",
    "params1 = {  \n",
    "    'RandomForestRegressor': { 'n_estimators': [50, 100], 'max_depth':[5,10]},\n",
    "    #'AdaBoostRegressor':  { 'base_estimator':[RandomForestClassifier(min_samples_leaf = 10)], 'n_estimators': [10, 20]},\n",
    "    'GradientBoostingRegressor': { 'n_estimators': [100,200] },\n",
    "    'SVR': [\n",
    "        {'kernel': ['linear'], 'C': [2.5,3], 'degree':[2,3]}],\n",
    "    'LinearRegression': {'n_jobs':[-1]}\n",
    "    \n",
    "}"
   ]
  },
  {
   "cell_type": "code",
   "execution_count": 35,
   "metadata": {},
   "outputs": [
    {
     "name": "stdout",
     "output_type": "stream",
     "text": [
      "Running GridSearchCV for RandomForestRegressor.\n",
      "Fitting 2 folds for each of 4 candidates, totalling 8 fits\n"
     ]
    },
    {
     "name": "stderr",
     "output_type": "stream",
     "text": [
      "[Parallel(n_jobs=-1)]: Done   3 out of   8 | elapsed:    1.6s remaining:    2.7s\n",
      "[Parallel(n_jobs=-1)]: Done   5 out of   8 | elapsed:    1.9s remaining:    1.1s\n",
      "[Parallel(n_jobs=-1)]: Done   8 out of   8 | elapsed:    2.1s finished\n"
     ]
    },
    {
     "name": "stdout",
     "output_type": "stream",
     "text": [
      "Running GridSearchCV for GradientBoostingRegressor.\n",
      "Fitting 2 folds for each of 2 candidates, totalling 4 fits\n"
     ]
    },
    {
     "name": "stderr",
     "output_type": "stream",
     "text": [
      "[Parallel(n_jobs=-1)]: Done   2 out of   4 | elapsed:    1.0s remaining:    1.0s\n",
      "[Parallel(n_jobs=-1)]: Done   4 out of   4 | elapsed:    1.8s remaining:    0.0s\n",
      "[Parallel(n_jobs=-1)]: Done   4 out of   4 | elapsed:    1.8s finished\n"
     ]
    },
    {
     "name": "stdout",
     "output_type": "stream",
     "text": [
      "Running GridSearchCV for SVR.\n",
      "Fitting 2 folds for each of 4 candidates, totalling 8 fits\n"
     ]
    },
    {
     "name": "stderr",
     "output_type": "stream",
     "text": [
      "[Parallel(n_jobs=-1)]: Done   3 out of   8 | elapsed:    1.5s remaining:    2.5s\n",
      "[Parallel(n_jobs=-1)]: Done   5 out of   8 | elapsed:    1.9s remaining:    1.1s\n",
      "[Parallel(n_jobs=-1)]: Done   8 out of   8 | elapsed:    1.9s finished\n"
     ]
    },
    {
     "name": "stdout",
     "output_type": "stream",
     "text": [
      "Running GridSearchCV for LinearRegression.\n",
      "Fitting 2 folds for each of 1 candidates, totalling 2 fits\n"
     ]
    },
    {
     "name": "stderr",
     "output_type": "stream",
     "text": [
      "[Parallel(n_jobs=-1)]: Done   2 out of   2 | elapsed:    1.0s remaining:    0.0s\n",
      "[Parallel(n_jobs=-1)]: Done   2 out of   2 | elapsed:    1.0s finished\n"
     ]
    }
   ],
   "source": [
    "helper = EstimatorSelectionHelper(models1, params1)\n",
    "helper.fit(X_tr_sj, Y_tr_sj, scoring='neg_mean_absolute_error', cv = 2)"
   ]
  },
  {
   "cell_type": "code",
   "execution_count": 36,
   "metadata": {},
   "outputs": [
    {
     "data": {
      "text/html": [
       "<div>\n",
       "<style scoped>\n",
       "    .dataframe tbody tr th:only-of-type {\n",
       "        vertical-align: middle;\n",
       "    }\n",
       "\n",
       "    .dataframe tbody tr th {\n",
       "        vertical-align: top;\n",
       "    }\n",
       "\n",
       "    .dataframe thead th {\n",
       "        text-align: right;\n",
       "    }\n",
       "</style>\n",
       "<table border=\"1\" class=\"dataframe\">\n",
       "  <thead>\n",
       "    <tr style=\"text-align: right;\">\n",
       "      <th></th>\n",
       "      <th>estimator</th>\n",
       "      <th>min_score</th>\n",
       "      <th>mean_score</th>\n",
       "      <th>max_score</th>\n",
       "      <th>std_score</th>\n",
       "      <th>C</th>\n",
       "      <th>degree</th>\n",
       "      <th>kernel</th>\n",
       "      <th>max_depth</th>\n",
       "      <th>n_estimators</th>\n",
       "      <th>n_jobs</th>\n",
       "    </tr>\n",
       "  </thead>\n",
       "  <tbody>\n",
       "    <tr>\n",
       "      <th>6</th>\n",
       "      <td>SVR</td>\n",
       "      <td>-21.9086</td>\n",
       "      <td>-21.8675</td>\n",
       "      <td>-21.8264</td>\n",
       "      <td>0.0410927</td>\n",
       "      <td>2.5</td>\n",
       "      <td>2</td>\n",
       "      <td>linear</td>\n",
       "      <td>NaN</td>\n",
       "      <td>NaN</td>\n",
       "      <td>NaN</td>\n",
       "    </tr>\n",
       "    <tr>\n",
       "      <th>7</th>\n",
       "      <td>SVR</td>\n",
       "      <td>-21.9086</td>\n",
       "      <td>-21.8675</td>\n",
       "      <td>-21.8264</td>\n",
       "      <td>0.0410927</td>\n",
       "      <td>2.5</td>\n",
       "      <td>3</td>\n",
       "      <td>linear</td>\n",
       "      <td>NaN</td>\n",
       "      <td>NaN</td>\n",
       "      <td>NaN</td>\n",
       "    </tr>\n",
       "    <tr>\n",
       "      <th>8</th>\n",
       "      <td>SVR</td>\n",
       "      <td>-21.9086</td>\n",
       "      <td>-21.868</td>\n",
       "      <td>-21.8273</td>\n",
       "      <td>0.0406622</td>\n",
       "      <td>3</td>\n",
       "      <td>2</td>\n",
       "      <td>linear</td>\n",
       "      <td>NaN</td>\n",
       "      <td>NaN</td>\n",
       "      <td>NaN</td>\n",
       "    </tr>\n",
       "    <tr>\n",
       "      <th>9</th>\n",
       "      <td>SVR</td>\n",
       "      <td>-21.9086</td>\n",
       "      <td>-21.868</td>\n",
       "      <td>-21.8273</td>\n",
       "      <td>0.0406622</td>\n",
       "      <td>3</td>\n",
       "      <td>3</td>\n",
       "      <td>linear</td>\n",
       "      <td>NaN</td>\n",
       "      <td>NaN</td>\n",
       "      <td>NaN</td>\n",
       "    </tr>\n",
       "    <tr>\n",
       "      <th>0</th>\n",
       "      <td>RandomForestRegressor</td>\n",
       "      <td>-25.2366</td>\n",
       "      <td>-25.1818</td>\n",
       "      <td>-25.127</td>\n",
       "      <td>0.0547743</td>\n",
       "      <td>NaN</td>\n",
       "      <td>NaN</td>\n",
       "      <td>NaN</td>\n",
       "      <td>5</td>\n",
       "      <td>50</td>\n",
       "      <td>NaN</td>\n",
       "    </tr>\n",
       "    <tr>\n",
       "      <th>10</th>\n",
       "      <td>LinearRegression</td>\n",
       "      <td>-25.847</td>\n",
       "      <td>-25.0087</td>\n",
       "      <td>-24.1704</td>\n",
       "      <td>0.838326</td>\n",
       "      <td>NaN</td>\n",
       "      <td>NaN</td>\n",
       "      <td>NaN</td>\n",
       "      <td>NaN</td>\n",
       "      <td>NaN</td>\n",
       "      <td>-1</td>\n",
       "    </tr>\n",
       "    <tr>\n",
       "      <th>1</th>\n",
       "      <td>RandomForestRegressor</td>\n",
       "      <td>-25.8545</td>\n",
       "      <td>-25.669</td>\n",
       "      <td>-25.4834</td>\n",
       "      <td>0.185548</td>\n",
       "      <td>NaN</td>\n",
       "      <td>NaN</td>\n",
       "      <td>NaN</td>\n",
       "      <td>5</td>\n",
       "      <td>100</td>\n",
       "      <td>NaN</td>\n",
       "    </tr>\n",
       "    <tr>\n",
       "      <th>2</th>\n",
       "      <td>RandomForestRegressor</td>\n",
       "      <td>-26.3656</td>\n",
       "      <td>-26.0322</td>\n",
       "      <td>-25.6988</td>\n",
       "      <td>0.333366</td>\n",
       "      <td>NaN</td>\n",
       "      <td>NaN</td>\n",
       "      <td>NaN</td>\n",
       "      <td>10</td>\n",
       "      <td>50</td>\n",
       "      <td>NaN</td>\n",
       "    </tr>\n",
       "    <tr>\n",
       "      <th>3</th>\n",
       "      <td>RandomForestRegressor</td>\n",
       "      <td>-26.4745</td>\n",
       "      <td>-26.3202</td>\n",
       "      <td>-26.166</td>\n",
       "      <td>0.154276</td>\n",
       "      <td>NaN</td>\n",
       "      <td>NaN</td>\n",
       "      <td>NaN</td>\n",
       "      <td>10</td>\n",
       "      <td>100</td>\n",
       "      <td>NaN</td>\n",
       "    </tr>\n",
       "    <tr>\n",
       "      <th>4</th>\n",
       "      <td>GradientBoostingRegressor</td>\n",
       "      <td>-27.1781</td>\n",
       "      <td>-27.1236</td>\n",
       "      <td>-27.0691</td>\n",
       "      <td>0.0544902</td>\n",
       "      <td>NaN</td>\n",
       "      <td>NaN</td>\n",
       "      <td>NaN</td>\n",
       "      <td>NaN</td>\n",
       "      <td>100</td>\n",
       "      <td>NaN</td>\n",
       "    </tr>\n",
       "    <tr>\n",
       "      <th>5</th>\n",
       "      <td>GradientBoostingRegressor</td>\n",
       "      <td>-27.8833</td>\n",
       "      <td>-27.8258</td>\n",
       "      <td>-27.7683</td>\n",
       "      <td>0.0574782</td>\n",
       "      <td>NaN</td>\n",
       "      <td>NaN</td>\n",
       "      <td>NaN</td>\n",
       "      <td>NaN</td>\n",
       "      <td>200</td>\n",
       "      <td>NaN</td>\n",
       "    </tr>\n",
       "  </tbody>\n",
       "</table>\n",
       "</div>"
      ],
      "text/plain": [
       "                    estimator min_score mean_score max_score  std_score    C  \\\n",
       "6                         SVR  -21.9086   -21.8675  -21.8264  0.0410927  2.5   \n",
       "7                         SVR  -21.9086   -21.8675  -21.8264  0.0410927  2.5   \n",
       "8                         SVR  -21.9086    -21.868  -21.8273  0.0406622    3   \n",
       "9                         SVR  -21.9086    -21.868  -21.8273  0.0406622    3   \n",
       "0       RandomForestRegressor  -25.2366   -25.1818   -25.127  0.0547743  NaN   \n",
       "10           LinearRegression   -25.847   -25.0087  -24.1704   0.838326  NaN   \n",
       "1       RandomForestRegressor  -25.8545    -25.669  -25.4834   0.185548  NaN   \n",
       "2       RandomForestRegressor  -26.3656   -26.0322  -25.6988   0.333366  NaN   \n",
       "3       RandomForestRegressor  -26.4745   -26.3202   -26.166   0.154276  NaN   \n",
       "4   GradientBoostingRegressor  -27.1781   -27.1236  -27.0691  0.0544902  NaN   \n",
       "5   GradientBoostingRegressor  -27.8833   -27.8258  -27.7683  0.0574782  NaN   \n",
       "\n",
       "   degree  kernel max_depth n_estimators n_jobs  \n",
       "6       2  linear       NaN          NaN    NaN  \n",
       "7       3  linear       NaN          NaN    NaN  \n",
       "8       2  linear       NaN          NaN    NaN  \n",
       "9       3  linear       NaN          NaN    NaN  \n",
       "0     NaN     NaN         5           50    NaN  \n",
       "10    NaN     NaN       NaN          NaN     -1  \n",
       "1     NaN     NaN         5          100    NaN  \n",
       "2     NaN     NaN        10           50    NaN  \n",
       "3     NaN     NaN        10          100    NaN  \n",
       "4     NaN     NaN       NaN          100    NaN  \n",
       "5     NaN     NaN       NaN          200    NaN  "
      ]
     },
     "execution_count": 36,
     "metadata": {},
     "output_type": "execute_result"
    }
   ],
   "source": [
    "helper.score_summary(sort_by='min_score')"
   ]
  },
  {
   "cell_type": "code",
   "execution_count": 54,
   "metadata": {},
   "outputs": [
    {
     "name": "stdout",
     "output_type": "stream",
     "text": [
      "Running GridSearchCV for RandomForestRegressor.\n",
      "Fitting 2 folds for each of 4 candidates, totalling 8 fits\n"
     ]
    },
    {
     "name": "stderr",
     "output_type": "stream",
     "text": [
      "[Parallel(n_jobs=-1)]: Done   3 out of   8 | elapsed:    1.5s remaining:    2.6s\n",
      "[Parallel(n_jobs=-1)]: Done   5 out of   8 | elapsed:    1.9s remaining:    1.1s\n",
      "[Parallel(n_jobs=-1)]: Done   8 out of   8 | elapsed:    2.1s finished\n"
     ]
    },
    {
     "name": "stdout",
     "output_type": "stream",
     "text": [
      "Running GridSearchCV for GradientBoostingRegressor.\n",
      "Fitting 2 folds for each of 2 candidates, totalling 4 fits\n"
     ]
    },
    {
     "name": "stderr",
     "output_type": "stream",
     "text": [
      "[Parallel(n_jobs=-1)]: Done   2 out of   4 | elapsed:    1.0s remaining:    1.0s\n",
      "[Parallel(n_jobs=-1)]: Done   4 out of   4 | elapsed:    1.8s remaining:    0.0s\n",
      "[Parallel(n_jobs=-1)]: Done   4 out of   4 | elapsed:    1.8s finished\n"
     ]
    },
    {
     "name": "stdout",
     "output_type": "stream",
     "text": [
      "Running GridSearchCV for SVR.\n",
      "Fitting 2 folds for each of 4 candidates, totalling 8 fits\n"
     ]
    },
    {
     "name": "stderr",
     "output_type": "stream",
     "text": [
      "[Parallel(n_jobs=-1)]: Done   3 out of   8 | elapsed:    1.4s remaining:    2.4s\n",
      "[Parallel(n_jobs=-1)]: Done   5 out of   8 | elapsed:    1.8s remaining:    1.1s\n",
      "[Parallel(n_jobs=-1)]: Done   8 out of   8 | elapsed:    1.9s finished\n"
     ]
    },
    {
     "name": "stdout",
     "output_type": "stream",
     "text": [
      "Running GridSearchCV for LinearRegression.\n",
      "Fitting 2 folds for each of 1 candidates, totalling 2 fits\n"
     ]
    },
    {
     "name": "stderr",
     "output_type": "stream",
     "text": [
      "[Parallel(n_jobs=-1)]: Done   2 out of   2 | elapsed:    1.0s remaining:    0.0s\n",
      "[Parallel(n_jobs=-1)]: Done   2 out of   2 | elapsed:    1.0s finished\n"
     ]
    }
   ],
   "source": [
    "helper = EstimatorSelectionHelper(models1, params1)\n",
    "helper.fit(X_tr_iq, Y_tr_iq, scoring='neg_mean_absolute_error', cv = 2)"
   ]
  },
  {
   "cell_type": "code",
   "execution_count": 55,
   "metadata": {},
   "outputs": [
    {
     "data": {
      "text/html": [
       "<div>\n",
       "<style scoped>\n",
       "    .dataframe tbody tr th:only-of-type {\n",
       "        vertical-align: middle;\n",
       "    }\n",
       "\n",
       "    .dataframe tbody tr th {\n",
       "        vertical-align: top;\n",
       "    }\n",
       "\n",
       "    .dataframe thead th {\n",
       "        text-align: right;\n",
       "    }\n",
       "</style>\n",
       "<table border=\"1\" class=\"dataframe\">\n",
       "  <thead>\n",
       "    <tr style=\"text-align: right;\">\n",
       "      <th></th>\n",
       "      <th>estimator</th>\n",
       "      <th>min_score</th>\n",
       "      <th>mean_score</th>\n",
       "      <th>max_score</th>\n",
       "      <th>std_score</th>\n",
       "      <th>C</th>\n",
       "      <th>degree</th>\n",
       "      <th>kernel</th>\n",
       "      <th>max_depth</th>\n",
       "      <th>n_estimators</th>\n",
       "      <th>n_jobs</th>\n",
       "    </tr>\n",
       "  </thead>\n",
       "  <tbody>\n",
       "    <tr>\n",
       "      <th>8</th>\n",
       "      <td>SVR</td>\n",
       "      <td>-6.5057</td>\n",
       "      <td>-5.99921</td>\n",
       "      <td>-5.49273</td>\n",
       "      <td>0.506485</td>\n",
       "      <td>3</td>\n",
       "      <td>2</td>\n",
       "      <td>linear</td>\n",
       "      <td>NaN</td>\n",
       "      <td>NaN</td>\n",
       "      <td>NaN</td>\n",
       "    </tr>\n",
       "    <tr>\n",
       "      <th>9</th>\n",
       "      <td>SVR</td>\n",
       "      <td>-6.5057</td>\n",
       "      <td>-5.99921</td>\n",
       "      <td>-5.49273</td>\n",
       "      <td>0.506485</td>\n",
       "      <td>3</td>\n",
       "      <td>3</td>\n",
       "      <td>linear</td>\n",
       "      <td>NaN</td>\n",
       "      <td>NaN</td>\n",
       "      <td>NaN</td>\n",
       "    </tr>\n",
       "    <tr>\n",
       "      <th>6</th>\n",
       "      <td>SVR</td>\n",
       "      <td>-6.50856</td>\n",
       "      <td>-6.00128</td>\n",
       "      <td>-5.49401</td>\n",
       "      <td>0.507278</td>\n",
       "      <td>2.5</td>\n",
       "      <td>2</td>\n",
       "      <td>linear</td>\n",
       "      <td>NaN</td>\n",
       "      <td>NaN</td>\n",
       "      <td>NaN</td>\n",
       "    </tr>\n",
       "    <tr>\n",
       "      <th>7</th>\n",
       "      <td>SVR</td>\n",
       "      <td>-6.50856</td>\n",
       "      <td>-6.00128</td>\n",
       "      <td>-5.49401</td>\n",
       "      <td>0.507278</td>\n",
       "      <td>2.5</td>\n",
       "      <td>3</td>\n",
       "      <td>linear</td>\n",
       "      <td>NaN</td>\n",
       "      <td>NaN</td>\n",
       "      <td>NaN</td>\n",
       "    </tr>\n",
       "    <tr>\n",
       "      <th>0</th>\n",
       "      <td>RandomForestRegressor</td>\n",
       "      <td>-7.15491</td>\n",
       "      <td>-7.01876</td>\n",
       "      <td>-6.88262</td>\n",
       "      <td>0.136147</td>\n",
       "      <td>NaN</td>\n",
       "      <td>NaN</td>\n",
       "      <td>NaN</td>\n",
       "      <td>5</td>\n",
       "      <td>50</td>\n",
       "      <td>NaN</td>\n",
       "    </tr>\n",
       "    <tr>\n",
       "      <th>1</th>\n",
       "      <td>RandomForestRegressor</td>\n",
       "      <td>-7.16146</td>\n",
       "      <td>-6.99621</td>\n",
       "      <td>-6.83095</td>\n",
       "      <td>0.165257</td>\n",
       "      <td>NaN</td>\n",
       "      <td>NaN</td>\n",
       "      <td>NaN</td>\n",
       "      <td>5</td>\n",
       "      <td>100</td>\n",
       "      <td>NaN</td>\n",
       "    </tr>\n",
       "    <tr>\n",
       "      <th>3</th>\n",
       "      <td>RandomForestRegressor</td>\n",
       "      <td>-7.20846</td>\n",
       "      <td>-7.15061</td>\n",
       "      <td>-7.09276</td>\n",
       "      <td>0.0578492</td>\n",
       "      <td>NaN</td>\n",
       "      <td>NaN</td>\n",
       "      <td>NaN</td>\n",
       "      <td>10</td>\n",
       "      <td>100</td>\n",
       "      <td>NaN</td>\n",
       "    </tr>\n",
       "    <tr>\n",
       "      <th>10</th>\n",
       "      <td>LinearRegression</td>\n",
       "      <td>-7.32241</td>\n",
       "      <td>-6.5558</td>\n",
       "      <td>-5.78918</td>\n",
       "      <td>0.766616</td>\n",
       "      <td>NaN</td>\n",
       "      <td>NaN</td>\n",
       "      <td>NaN</td>\n",
       "      <td>NaN</td>\n",
       "      <td>NaN</td>\n",
       "      <td>-1</td>\n",
       "    </tr>\n",
       "    <tr>\n",
       "      <th>2</th>\n",
       "      <td>RandomForestRegressor</td>\n",
       "      <td>-7.37733</td>\n",
       "      <td>-7.17407</td>\n",
       "      <td>-6.97082</td>\n",
       "      <td>0.203259</td>\n",
       "      <td>NaN</td>\n",
       "      <td>NaN</td>\n",
       "      <td>NaN</td>\n",
       "      <td>10</td>\n",
       "      <td>50</td>\n",
       "      <td>NaN</td>\n",
       "    </tr>\n",
       "    <tr>\n",
       "      <th>4</th>\n",
       "      <td>GradientBoostingRegressor</td>\n",
       "      <td>-7.76412</td>\n",
       "      <td>-7.54025</td>\n",
       "      <td>-7.31637</td>\n",
       "      <td>0.223875</td>\n",
       "      <td>NaN</td>\n",
       "      <td>NaN</td>\n",
       "      <td>NaN</td>\n",
       "      <td>NaN</td>\n",
       "      <td>100</td>\n",
       "      <td>NaN</td>\n",
       "    </tr>\n",
       "    <tr>\n",
       "      <th>5</th>\n",
       "      <td>GradientBoostingRegressor</td>\n",
       "      <td>-7.94169</td>\n",
       "      <td>-7.78663</td>\n",
       "      <td>-7.63157</td>\n",
       "      <td>0.15506</td>\n",
       "      <td>NaN</td>\n",
       "      <td>NaN</td>\n",
       "      <td>NaN</td>\n",
       "      <td>NaN</td>\n",
       "      <td>200</td>\n",
       "      <td>NaN</td>\n",
       "    </tr>\n",
       "  </tbody>\n",
       "</table>\n",
       "</div>"
      ],
      "text/plain": [
       "                    estimator min_score mean_score max_score  std_score    C  \\\n",
       "8                         SVR   -6.5057   -5.99921  -5.49273   0.506485    3   \n",
       "9                         SVR   -6.5057   -5.99921  -5.49273   0.506485    3   \n",
       "6                         SVR  -6.50856   -6.00128  -5.49401   0.507278  2.5   \n",
       "7                         SVR  -6.50856   -6.00128  -5.49401   0.507278  2.5   \n",
       "0       RandomForestRegressor  -7.15491   -7.01876  -6.88262   0.136147  NaN   \n",
       "1       RandomForestRegressor  -7.16146   -6.99621  -6.83095   0.165257  NaN   \n",
       "3       RandomForestRegressor  -7.20846   -7.15061  -7.09276  0.0578492  NaN   \n",
       "10           LinearRegression  -7.32241    -6.5558  -5.78918   0.766616  NaN   \n",
       "2       RandomForestRegressor  -7.37733   -7.17407  -6.97082   0.203259  NaN   \n",
       "4   GradientBoostingRegressor  -7.76412   -7.54025  -7.31637   0.223875  NaN   \n",
       "5   GradientBoostingRegressor  -7.94169   -7.78663  -7.63157    0.15506  NaN   \n",
       "\n",
       "   degree  kernel max_depth n_estimators n_jobs  \n",
       "8       2  linear       NaN          NaN    NaN  \n",
       "9       3  linear       NaN          NaN    NaN  \n",
       "6       2  linear       NaN          NaN    NaN  \n",
       "7       3  linear       NaN          NaN    NaN  \n",
       "0     NaN     NaN         5           50    NaN  \n",
       "1     NaN     NaN         5          100    NaN  \n",
       "3     NaN     NaN        10          100    NaN  \n",
       "10    NaN     NaN       NaN          NaN     -1  \n",
       "2     NaN     NaN        10           50    NaN  \n",
       "4     NaN     NaN       NaN          100    NaN  \n",
       "5     NaN     NaN       NaN          200    NaN  "
      ]
     },
     "execution_count": 55,
     "metadata": {},
     "output_type": "execute_result"
    }
   ],
   "source": [
    "helper.score_summary(sort_by='min_score')"
   ]
  },
  {
   "cell_type": "code",
   "execution_count": 56,
   "metadata": {},
   "outputs": [
    {
     "data": {
      "text/plain": [
       "(156, 10)"
      ]
     },
     "execution_count": 56,
     "metadata": {},
     "output_type": "execute_result"
    }
   ],
   "source": [
    "iq_feature_test.shape"
   ]
  },
  {
   "cell_type": "code",
   "execution_count": 57,
   "metadata": {},
   "outputs": [
    {
     "data": {
      "text/plain": [
       "(260, 10)"
      ]
     },
     "execution_count": 57,
     "metadata": {},
     "output_type": "execute_result"
    }
   ],
   "source": [
    "sj_feature_test.shape"
   ]
  },
  {
   "cell_type": "code",
   "execution_count": 58,
   "metadata": {},
   "outputs": [
    {
     "data": {
      "text/plain": [
       "0.625"
      ]
     },
     "execution_count": 58,
     "metadata": {},
     "output_type": "execute_result"
    }
   ],
   "source": [
    "260/416"
   ]
  },
  {
   "cell_type": "code",
   "execution_count": 69,
   "metadata": {},
   "outputs": [],
   "source": [
    "clf = SVR()\n",
    "clf.fit(X_tr_sj, Y_tr_sj)\n",
    "\n",
    "sj_preds = clf.predict(sj_feature_test.drop(['city', 'year'], axis = 1))\n",
    "\n",
    "sj_sub = pd.DataFrame(sj_feature_test[['city', 'year', 'weekofyear']])\n",
    "sj_sub['total_cases'] = sj_preds\n",
    "\n",
    "sj_sub"
   ]
  },
  {
   "cell_type": "code",
   "execution_count": null,
   "metadata": {},
   "outputs": [],
   "source": []
  }
 ],
 "metadata": {
  "kernelspec": {
   "display_name": "Python 3",
   "language": "python",
   "name": "python3"
  },
  "language_info": {
   "codemirror_mode": {
    "name": "ipython",
    "version": 3
   },
   "file_extension": ".py",
   "mimetype": "text/x-python",
   "name": "python",
   "nbconvert_exporter": "python",
   "pygments_lexer": "ipython3",
   "version": "3.6.4"
  }
 },
 "nbformat": 4,
 "nbformat_minor": 2
}
