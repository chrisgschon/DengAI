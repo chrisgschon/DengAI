{
 "cells": [
  {
   "cell_type": "markdown",
   "metadata": {},
   "source": [
    "# Feature Engineering\n",
    "\n",
    "This notebook is a natural continuation of the exploratory data analysis in the Exploratory_Data_Analysis notebook.\n",
    "\n",
    "Key findings from the EDA were:\n",
    "- Missing values are relatively frequent, so a solution for nulls should be considered\n",
    "- The two cities that the measurements are taken from have:\n",
    "    - Different (hard to measure how different without more data..) climates according to the weather data\n",
    "    - Have different train and test time measurement periods. And the test period immediately follows the training period for each city\n",
    "        - This means the problem can be considered as a forecasting one, for each city. \n",
    "        - Initial feelings are that the model should condition for each city.\n",
    "            \n",
    "- A quick peek of raw feature predictive power suggest that weekofyear, humidity, rain and temperature could be important in the model.\n",
    "\n",
    "The purpose of this notebook will be to engineer features from the raw data to use in the final model. This will be a combination of:\n",
    "- Intuition (e.g. time/seasonal related feature construction)\n",
    "- Using SKLearn to explore features derived from PCA, polynomial, 'fromModel' and 'KBest' approaches.\n",
    "- Construct 'feature sets' from the analysis, to be used in model exploration. \n"
   ]
  },
  {
   "cell_type": "code",
   "execution_count": null,
   "metadata": {},
   "outputs": [],
   "source": [
    "import pandas as pd\n",
    "import numpy as np\n",
    "import seaborn as sns\n",
    "sns.set_context('talk')\n",
    "import matplotlib.pyplot as plt\n",
    "import warnings\n",
    "warnings.filterwarnings(\"ignore\")"
   ]
  }
 ],
 "metadata": {
  "kernelspec": {
   "display_name": "Python 3",
   "language": "python",
   "name": "python3"
  },
  "language_info": {
   "codemirror_mode": {
    "name": "ipython",
    "version": 3
   },
   "file_extension": ".py",
   "mimetype": "text/x-python",
   "name": "python",
   "nbconvert_exporter": "python",
   "pygments_lexer": "ipython3",
   "version": "3.6.4"
  }
 },
 "nbformat": 4,
 "nbformat_minor": 2
}
