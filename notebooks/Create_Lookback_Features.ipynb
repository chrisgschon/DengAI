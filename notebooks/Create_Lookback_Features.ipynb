{
 "cells": [
  {
   "cell_type": "markdown",
   "metadata": {},
   "source": [
    "# Take feautres from feature engineering and create 'lookback' feature sets"
   ]
  },
  {
   "cell_type": "code",
   "execution_count": 69,
   "metadata": {},
   "outputs": [],
   "source": [
    "import pandas as pd\n",
    "import numpy as np\n",
    "import seaborn as sns\n",
    "sns.set_context('talk')\n",
    "import matplotlib.pyplot as plt\n",
    "import warnings\n",
    "warnings.filterwarnings(\"ignore\")"
   ]
  },
  {
   "cell_type": "code",
   "execution_count": 70,
   "metadata": {},
   "outputs": [],
   "source": [
    "#untie local dependency\n",
    "import os\n",
    "cwd = os.getcwd().split('\\\\')\n",
    "local_repo_path = '\\\\'.join(cwd[:-1])\n",
    "raw_data_path = local_repo_path + '\\\\data\\\\raw'\n",
    "processed_data_path = local_repo_path + '\\\\data\\\\processed'\n",
    "feature_path = local_repo_path + '\\\\data\\\\features'\n",
    "submissions_path = local_repo_path + '\\\\submissions'"
   ]
  },
  {
   "cell_type": "code",
   "execution_count": 71,
   "metadata": {},
   "outputs": [],
   "source": [
    "output_feature_fname = 'numerics_with_poly'\n",
    "sj_feature_train = pd.read_csv(feature_path + r'\\\\sj_train_' + output_feature_fname + '.csv', index_col=0)\n",
    "sj_feature_test = pd.read_csv(feature_path + r'\\\\sj_test_' + output_feature_fname + '.csv', index_col=0)\n",
    "iq_feature_train = pd.read_csv(feature_path + r'\\\\iq_train_' + output_feature_fname + '.csv', index_col=0)\n",
    "iq_feature_test = pd.read_csv(feature_path + r'\\\\iq_test_' + output_feature_fname + '.csv', index_col=0)"
   ]
  },
  {
   "cell_type": "code",
   "execution_count": 72,
   "metadata": {},
   "outputs": [
    {
     "data": {
      "text/html": [
       "<div>\n",
       "<style scoped>\n",
       "    .dataframe tbody tr th:only-of-type {\n",
       "        vertical-align: middle;\n",
       "    }\n",
       "\n",
       "    .dataframe tbody tr th {\n",
       "        vertical-align: top;\n",
       "    }\n",
       "\n",
       "    .dataframe thead th {\n",
       "        text-align: right;\n",
       "    }\n",
       "</style>\n",
       "<table border=\"1\" class=\"dataframe\">\n",
       "  <thead>\n",
       "    <tr style=\"text-align: right;\">\n",
       "      <th></th>\n",
       "      <th>0</th>\n",
       "      <th>1</th>\n",
       "      <th>2</th>\n",
       "      <th>3</th>\n",
       "      <th>4</th>\n",
       "      <th>total_cases</th>\n",
       "    </tr>\n",
       "  </thead>\n",
       "  <tbody>\n",
       "    <tr>\n",
       "      <th>0</th>\n",
       "      <td>-1.081814</td>\n",
       "      <td>-1.183554</td>\n",
       "      <td>-0.759571</td>\n",
       "      <td>-1.272727</td>\n",
       "      <td>-0.542448</td>\n",
       "      <td>4</td>\n",
       "    </tr>\n",
       "    <tr>\n",
       "      <th>1</th>\n",
       "      <td>-0.559956</td>\n",
       "      <td>-0.583693</td>\n",
       "      <td>-0.214395</td>\n",
       "      <td>-0.272727</td>\n",
       "      <td>-0.541333</td>\n",
       "      <td>5</td>\n",
       "    </tr>\n",
       "    <tr>\n",
       "      <th>2</th>\n",
       "      <td>0.006304</td>\n",
       "      <td>-0.005017</td>\n",
       "      <td>-0.214395</td>\n",
       "      <td>0.000000</td>\n",
       "      <td>-0.530953</td>\n",
       "      <td>4</td>\n",
       "    </tr>\n",
       "    <tr>\n",
       "      <th>3</th>\n",
       "      <td>-0.061121</td>\n",
       "      <td>-0.053519</td>\n",
       "      <td>0.110260</td>\n",
       "      <td>0.227273</td>\n",
       "      <td>-0.510605</td>\n",
       "      <td>3</td>\n",
       "    </tr>\n",
       "    <tr>\n",
       "      <th>4</th>\n",
       "      <td>0.144991</td>\n",
       "      <td>0.146063</td>\n",
       "      <td>0.741194</td>\n",
       "      <td>0.500000</td>\n",
       "      <td>-0.479789</td>\n",
       "      <td>6</td>\n",
       "    </tr>\n",
       "  </tbody>\n",
       "</table>\n",
       "</div>"
      ],
      "text/plain": [
       "          0         1         2         3         4  total_cases\n",
       "0 -1.081814 -1.183554 -0.759571 -1.272727 -0.542448            4\n",
       "1 -0.559956 -0.583693 -0.214395 -0.272727 -0.541333            5\n",
       "2  0.006304 -0.005017 -0.214395  0.000000 -0.530953            4\n",
       "3 -0.061121 -0.053519  0.110260  0.227273 -0.510605            3\n",
       "4  0.144991  0.146063  0.741194  0.500000 -0.479789            6"
      ]
     },
     "execution_count": 72,
     "metadata": {},
     "output_type": "execute_result"
    }
   ],
   "source": [
    "sj_feature_train.head()"
   ]
  },
  {
   "cell_type": "code",
   "execution_count": 73,
   "metadata": {},
   "outputs": [
    {
     "data": {
      "text/html": [
       "<div>\n",
       "<style scoped>\n",
       "    .dataframe tbody tr th:only-of-type {\n",
       "        vertical-align: middle;\n",
       "    }\n",
       "\n",
       "    .dataframe tbody tr th {\n",
       "        vertical-align: top;\n",
       "    }\n",
       "\n",
       "    .dataframe thead th {\n",
       "        text-align: right;\n",
       "    }\n",
       "</style>\n",
       "<table border=\"1\" class=\"dataframe\">\n",
       "  <thead>\n",
       "    <tr style=\"text-align: right;\">\n",
       "      <th></th>\n",
       "      <th>0</th>\n",
       "      <th>1</th>\n",
       "      <th>2</th>\n",
       "      <th>3</th>\n",
       "      <th>4</th>\n",
       "      <th>total_cases</th>\n",
       "    </tr>\n",
       "  </thead>\n",
       "  <tbody>\n",
       "    <tr>\n",
       "      <th>0</th>\n",
       "      <td>-0.374283</td>\n",
       "      <td>-0.332172</td>\n",
       "      <td>-1.142356</td>\n",
       "      <td>-0.428571</td>\n",
       "      <td>-0.518389</td>\n",
       "      <td>0</td>\n",
       "    </tr>\n",
       "    <tr>\n",
       "      <th>1</th>\n",
       "      <td>-0.271416</td>\n",
       "      <td>-0.242713</td>\n",
       "      <td>-0.637306</td>\n",
       "      <td>-0.357143</td>\n",
       "      <td>-0.515560</td>\n",
       "      <td>0</td>\n",
       "    </tr>\n",
       "    <tr>\n",
       "      <th>2</th>\n",
       "      <td>-0.146308</td>\n",
       "      <td>-0.107058</td>\n",
       "      <td>-0.738316</td>\n",
       "      <td>-0.428571</td>\n",
       "      <td>-0.506596</td>\n",
       "      <td>0</td>\n",
       "    </tr>\n",
       "    <tr>\n",
       "      <th>3</th>\n",
       "      <td>-1.454387</td>\n",
       "      <td>-1.557470</td>\n",
       "      <td>-1.782087</td>\n",
       "      <td>-4.714286</td>\n",
       "      <td>-0.491497</td>\n",
       "      <td>0</td>\n",
       "    </tr>\n",
       "    <tr>\n",
       "      <th>4</th>\n",
       "      <td>-0.961599</td>\n",
       "      <td>-0.962053</td>\n",
       "      <td>-0.940336</td>\n",
       "      <td>-1.571429</td>\n",
       "      <td>-0.470264</td>\n",
       "      <td>0</td>\n",
       "    </tr>\n",
       "  </tbody>\n",
       "</table>\n",
       "</div>"
      ],
      "text/plain": [
       "          0         1         2         3         4  total_cases\n",
       "0 -0.374283 -0.332172 -1.142356 -0.428571 -0.518389            0\n",
       "1 -0.271416 -0.242713 -0.637306 -0.357143 -0.515560            0\n",
       "2 -0.146308 -0.107058 -0.738316 -0.428571 -0.506596            0\n",
       "3 -1.454387 -1.557470 -1.782087 -4.714286 -0.491497            0\n",
       "4 -0.961599 -0.962053 -0.940336 -1.571429 -0.470264            0"
      ]
     },
     "execution_count": 73,
     "metadata": {},
     "output_type": "execute_result"
    }
   ],
   "source": [
    "iq_feature_train.head()"
   ]
  },
  {
   "cell_type": "code",
   "execution_count": 74,
   "metadata": {},
   "outputs": [],
   "source": [
    "from math import sqrt\n",
    "from numpy import concatenate\n",
    "import matplotlib.pyplot as plt\n",
    "# convert series to supervised learning\n",
    "def series_to_supervised(data, n_in=1, n_out=1, dropnan=True):\n",
    "    n_vars = 1 if type(data) is list else data.shape[1]\n",
    "    df = pd.DataFrame(data)\n",
    "    cols, names = list(), list()\n",
    "    # input sequence (t-n, ... t-1)\n",
    "    for i in range(n_in, 0, -1):\n",
    "        cols.append(df.shift(i))\n",
    "        names += [('var%d(t-%d)' % (j+1, i)) for j in range(n_vars)]\n",
    "    # forecast sequence (t, t+1, ... t+n)\n",
    "    for i in range(0, n_out):\n",
    "        cols.append(df.shift(-i))\n",
    "        if i == 0:\n",
    "            names += [('var%d(t)' % (j+1)) for j in range(n_vars)]\n",
    "        else:\n",
    "            names += [('var%d(t+%d)' % (j+1, i)) for j in range(n_vars)]\n",
    "    # put it all together\n",
    "    agg = pd.concat(cols, axis=1)\n",
    "    agg.columns = names\n",
    "    # drop rows with NaN values\n",
    "    if dropnan:\n",
    "        agg.dropna(inplace=True)\n",
    "    return agg"
   ]
  },
  {
   "cell_type": "markdown",
   "metadata": {},
   "source": [
    "# Reshape with lookback features - and output data to features folder"
   ]
  },
  {
   "cell_type": "markdown",
   "metadata": {},
   "source": [
    "# Set lookback"
   ]
  },
  {
   "cell_type": "code",
   "execution_count": 75,
   "metadata": {},
   "outputs": [],
   "source": [
    "n_lookback = 52"
   ]
  },
  {
   "cell_type": "markdown",
   "metadata": {},
   "source": [
    "## Train SJ"
   ]
  },
  {
   "cell_type": "code",
   "execution_count": 76,
   "metadata": {},
   "outputs": [
    {
     "data": {
      "text/plain": [
       "(884, 261)"
      ]
     },
     "execution_count": 76,
     "metadata": {},
     "output_type": "execute_result"
    }
   ],
   "source": [
    "X_tr_sj_wide = series_to_supervised(sj_feature_train.drop('total_cases', axis = 1), n_lookback, 1)\n",
    "X_tr_sj_wide.drop(['var1(t)', 'var2(t)', 'var3(t)', 'var4(t)', 'var5(t)'], axis = 1, inplace = True)\n",
    "X_tr_sj_wide['total_cases'] = sj_feature_train['total_cases']\n",
    "X_tr_sj_wide.to_csv(feature_path + '\\\\sj_train_Lookback' + str(n_lookback) + '.csv')\n",
    "X_tr_sj_wide.shape"
   ]
  },
  {
   "cell_type": "markdown",
   "metadata": {},
   "source": [
    "## Test SJ"
   ]
  },
  {
   "cell_type": "code",
   "execution_count": 77,
   "metadata": {},
   "outputs": [
    {
     "data": {
      "text/plain": [
       "(260, 1, 260)"
      ]
     },
     "execution_count": 77,
     "metadata": {},
     "output_type": "execute_result"
    }
   ],
   "source": [
    "X_test_sj_wide = sj_feature_train.drop(['total_cases'], axis = 1).iloc[-n_lookback:,:].append(sj_feature_test.drop(['city','weekofyear', 'year'], axis = 1)).reset_index(drop = True)\n",
    "X_test_sj_wide = series_to_supervised(X_test_sj_wide, n_lookback, 1)\n",
    "X_test_sj_wide.drop(['var1(t)', 'var2(t)', 'var3(t)', 'var4(t)', 'var5(t)'], axis = 1, inplace = True)\n",
    "features_out = pd.DataFrame(X_test_sj_wide).reset_index(drop = True)\n",
    "features_out['city'] = 'sj'\n",
    "features_out['year'] = sj_feature_test['year']\n",
    "features_out['weekofyear'] = sj_feature_test['weekofyear']\n",
    "features_out.to_csv(feature_path + '\\\\sj_test_Lookback' + str(n_lookback) + '.csv')\n",
    "X_test_sj_wide = X_test_sj_wide.values.reshape((X_test_sj_wide.shape[0], 1, X_test_sj_wide.shape[1]))\n",
    "X_test_sj_wide.shape"
   ]
  },
  {
   "cell_type": "markdown",
   "metadata": {},
   "source": [
    "## Train IQ"
   ]
  },
  {
   "cell_type": "code",
   "execution_count": 78,
   "metadata": {},
   "outputs": [
    {
     "data": {
      "text/plain": [
       "(468, 261)"
      ]
     },
     "execution_count": 78,
     "metadata": {},
     "output_type": "execute_result"
    }
   ],
   "source": [
    "X_tr_iq_wide = series_to_supervised(iq_feature_train.drop('total_cases', axis = 1), n_lookback, 1)\n",
    "X_tr_iq_wide.drop(['var1(t)', 'var2(t)', 'var3(t)', 'var4(t)', 'var5(t)'], axis = 1, inplace = True)\n",
    "X_tr_iq_wide['total_cases'] = iq_feature_train['total_cases']\n",
    "X_tr_iq_wide.to_csv(feature_path + '\\\\iq_train_Lookback' + str(n_lookback) + '.csv')\n",
    "X_tr_iq_wide.shape"
   ]
  },
  {
   "cell_type": "markdown",
   "metadata": {},
   "source": [
    "## Test IQ"
   ]
  },
  {
   "cell_type": "code",
   "execution_count": 79,
   "metadata": {},
   "outputs": [
    {
     "data": {
      "text/plain": [
       "(156, 1, 260)"
      ]
     },
     "execution_count": 79,
     "metadata": {},
     "output_type": "execute_result"
    }
   ],
   "source": [
    "X_test_iq_wide = iq_feature_train.drop('total_cases', axis = 1).iloc[-n_lookback:,:].append(iq_feature_test.drop(['city','weekofyear', 'year'], axis = 1)).reset_index(drop = True)\n",
    "X_test_iq_wide = series_to_supervised(X_test_iq_wide, n_lookback, 1)\n",
    "X_test_iq_wide.drop(['var1(t)', 'var2(t)', 'var3(t)', 'var4(t)', 'var5(t)'], axis = 1, inplace = True)\n",
    "features_out = pd.DataFrame(X_test_iq_wide).reset_index(drop = True)\n",
    "features_out['city'] = 'iq'\n",
    "features_out['year'] = iq_feature_test['year']\n",
    "features_out['weekofyear'] = iq_feature_test['weekofyear']\n",
    "features_out.to_csv(feature_path + '\\\\iq_test_Lookback' + str(n_lookback) + '.csv')\n",
    "X_test_iq_wide = X_test_iq_wide.values.reshape((X_test_iq_wide.shape[0], 1, X_test_iq_wide.shape[1]))\n",
    "X_test_iq_wide.shape"
   ]
  },
  {
   "cell_type": "code",
   "execution_count": null,
   "metadata": {},
   "outputs": [],
   "source": []
  }
 ],
 "metadata": {
  "kernelspec": {
   "display_name": "Python [default]",
   "language": "python",
   "name": "python3"
  },
  "language_info": {
   "codemirror_mode": {
    "name": "ipython",
    "version": 3
   },
   "file_extension": ".py",
   "mimetype": "text/x-python",
   "name": "python",
   "nbconvert_exporter": "python",
   "pygments_lexer": "ipython3",
   "version": "3.6.3"
  }
 },
 "nbformat": 4,
 "nbformat_minor": 2
}
